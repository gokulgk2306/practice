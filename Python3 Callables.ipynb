{
 "cells": [
  {
   "cell_type": "code",
   "execution_count": 11,
   "id": "06b629df-3bab-49a2-9662-80d7750b3c2a",
   "metadata": {},
   "outputs": [],
   "source": [
    "class Myclass:\n",
    "    def __init__(self,x=0):\n",
    "        print(\"Initializing\")\n",
    "        self.counter = x"
   ]
  },
  {
   "cell_type": "code",
   "execution_count": 12,
   "id": "3dadbaad-ce8d-4c9b-b6d7-4ae0d5f2f166",
   "metadata": {},
   "outputs": [
    {
     "name": "stdout",
     "output_type": "stream",
     "text": [
      "Initializing\n"
     ]
    }
   ],
   "source": [
    "a = Myclass(100)"
   ]
  },
  {
   "cell_type": "code",
   "execution_count": 14,
   "id": "bdc4a980-55c8-4c24-899a-2ba90537d3e8",
   "metadata": {},
   "outputs": [
    {
     "data": {
      "text/plain": [
       "100"
      ]
     },
     "execution_count": 14,
     "metadata": {},
     "output_type": "execute_result"
    }
   ],
   "source": [
    "a.counter"
   ]
  },
  {
   "cell_type": "code",
   "execution_count": 16,
   "id": "dc367b99-387a-4519-b670-1fe42d768873",
   "metadata": {},
   "outputs": [],
   "source": [
    "class Myclass:\n",
    "    def __init__(self,x=0):\n",
    "        print(\"Initializing\")\n",
    "        self.counter = x\n",
    "    def __call__(self,x=0):\n",
    "        print(\"Updating Counter\")\n",
    "        self.counter += x"
   ]
  },
  {
   "cell_type": "code",
   "execution_count": 18,
   "id": "c2b464ce-b006-4627-8337-e2130d4f79b7",
   "metadata": {},
   "outputs": [
    {
     "name": "stdout",
     "output_type": "stream",
     "text": [
      "Initializing\n"
     ]
    }
   ],
   "source": [
    "b = Myclass()"
   ]
  },
  {
   "cell_type": "code",
   "execution_count": 7,
   "id": "0dc2510e-8e82-44cc-85d8-4a6415fdd7b3",
   "metadata": {},
   "outputs": [
    {
     "name": "stdout",
     "output_type": "stream",
     "text": [
      "720\n",
      "<map object at 0x000001EC3485F850>\n",
      "1\n",
      "1\n",
      "2\n",
      "6\n",
      "24\n",
      "120\n"
     ]
    }
   ],
   "source": [
    "#MAP , FILTER , ZIP , LIST COMPREHENSIONS-->\n",
    "\n",
    "#In these things we can pass the functions to the inbuild functions to make things\n",
    "\n",
    "def fact(n):\n",
    "    return 1 if n < 2 else n * fact(n-1)\n",
    "\n",
    "print(fact(6))\n",
    "results = map(fact , range(6))\n",
    "print(results)\n",
    "for x in results:\n",
    "    print(x)"
   ]
  },
  {
   "cell_type": "code",
   "execution_count": 11,
   "id": "2c52469d-6817-4765-acc7-4771d388281f",
   "metadata": {},
   "outputs": [
    {
     "name": "stdout",
     "output_type": "stream",
     "text": [
      "[11, 22, 33]\n"
     ]
    }
   ],
   "source": [
    "l1 = [1,2,3]\n",
    "l2 = [10,20,30]\n",
    "results = list(map(lambda x , y : x+y,l1,l2))\n",
    "print(results)"
   ]
  },
  {
   "cell_type": "code",
   "execution_count": 13,
   "id": "4988a370-6ef1-4135-abe3-6b725b6c8599",
   "metadata": {},
   "outputs": [
    {
     "name": "stdout",
     "output_type": "stream",
     "text": [
      "[111, 222, 333]\n"
     ]
    }
   ],
   "source": [
    "l1 = [1,2,3]\n",
    "l2 = [10,20,30]\n",
    "l3 = [100,200,300,400]\n",
    "results = list(map(lambda x , y,z : x+y+z,l1,l2,l3))\n",
    "print(results)"
   ]
  },
  {
   "cell_type": "code",
   "execution_count": 17,
   "id": "eeac9c03-e5eb-41fa-b457-69804b3b58d4",
   "metadata": {},
   "outputs": [
    {
     "name": "stdout",
     "output_type": "stream",
     "text": [
      "[0, 3, 6, 9, 12, 15, 18, 21, 24]\n"
     ]
    }
   ],
   "source": [
    "results = list(filter(lambda x : x%3==0,range(25)))\n",
    "print(results)"
   ]
  },
  {
   "cell_type": "code",
   "execution_count": 21,
   "id": "d00f8239-51ea-4ed8-a9f8-47df30a1865c",
   "metadata": {},
   "outputs": [
    {
     "name": "stdout",
     "output_type": "stream",
     "text": [
      "[(1, 10, 'p'), (2, 20, 'y'), (3, 30, 't')]\n"
     ]
    }
   ],
   "source": [
    "l1 = [1,2,3]\n",
    "l2 = [10,20,30]\n",
    "l3 = 'python'\n",
    "results = list(zip(l1,l2,l3))\n",
    "print(results)"
   ]
  },
  {
   "cell_type": "code",
   "execution_count": 27,
   "id": "b6fe0075-e20c-440c-bd1f-a7cba4d388fa",
   "metadata": {},
   "outputs": [
    {
     "data": {
      "text/plain": [
       "100"
      ]
     },
     "execution_count": 27,
     "metadata": {},
     "output_type": "execute_result"
    }
   ],
   "source": [
    "l = [1,3,5,6,8,100,10]\n",
    "_max = lambda x , y : x if x > y else y\n",
    "\n",
    "def sequence(sequence):\n",
    "    result = sequence[0]\n",
    "    for x in sequence[1:]:\n",
    "        result = _max(result , x)\n",
    "    return result\n",
    "sequence(l)"
   ]
  },
  {
   "cell_type": "code",
   "execution_count": 30,
   "id": "36cf87d1-3d31-4676-b84d-3240d7f5e0ad",
   "metadata": {},
   "outputs": [
    {
     "name": "stdout",
     "output_type": "stream",
     "text": [
      "9\n"
     ]
    }
   ],
   "source": [
    "# Find the largest number in a list\n",
    "from functools import reduce\n",
    "nums = [3, 1, 4, 1, 5, 9]\n",
    "max_value = reduce(lambda x, y: x if x > y else y, nums)\n",
    "print(max_value)  # Output: 9\n"
   ]
  },
  {
   "cell_type": "code",
   "execution_count": 32,
   "id": "be51cc42-da70-4e5a-9d9f-0eddb5e86fa0",
   "metadata": {},
   "outputs": [
    {
     "name": "stdout",
     "output_type": "stream",
     "text": [
      "10\n",
      "20\n"
     ]
    }
   ],
   "source": [
    "from functools import partial\n",
    "\n",
    "# Original function\n",
    "def multiply(x, y):\n",
    "    return x * y\n",
    "\n",
    "# Create a new function that multiplies by 2\n",
    "double = partial(multiply, 2)\n",
    "\n",
    "# Use the new function\n",
    "print(double(5))  # Output: 10\n",
    "print(double(10))  # Output: 20\n"
   ]
  },
  {
   "cell_type": "code",
   "execution_count": 1,
   "id": "5c923598-69b4-489a-9c22-1b5fa492eb43",
   "metadata": {},
   "outputs": [
    {
     "name": "stdout",
     "output_type": "stream",
     "text": [
      "8\n",
      "5\n",
      "12\n",
      "4.0\n",
      "2\n",
      "1\n",
      "8\n",
      "True\n",
      "True\n",
      "True\n",
      "True\n",
      "True\n",
      "True\n",
      "False\n",
      "True\n",
      "False\n",
      "1\n",
      "7\n",
      "6\n",
      "-4\n",
      "Hello World\n",
      "2\n",
      "None\n",
      "[1, 3]\n",
      "42\n",
      "HELLO\n",
      "{'subkey': 10}\n"
     ]
    },
    {
     "ename": "KeyError",
     "evalue": "'key'",
     "output_type": "error",
     "traceback": [
      "\u001b[1;31m---------------------------------------------------------------------------\u001b[0m",
      "\u001b[1;31mKeyError\u001b[0m                                  Traceback (most recent call last)",
      "Cell \u001b[1;32mIn[1], line 55\u001b[0m\n\u001b[0;32m     53\u001b[0m nested \u001b[38;5;241m=\u001b[39m {\u001b[38;5;124m\"\u001b[39m\u001b[38;5;124mkey\u001b[39m\u001b[38;5;124m\"\u001b[39m: {\u001b[38;5;124m\"\u001b[39m\u001b[38;5;124msubkey\u001b[39m\u001b[38;5;124m\"\u001b[39m: \u001b[38;5;241m10\u001b[39m}}\n\u001b[0;32m     54\u001b[0m \u001b[38;5;28mprint\u001b[39m(operator\u001b[38;5;241m.\u001b[39mitemgetter(\u001b[38;5;124m\"\u001b[39m\u001b[38;5;124mkey\u001b[39m\u001b[38;5;124m\"\u001b[39m)(nested))       \u001b[38;5;66;03m# Get \"key\": {\"subkey\": 10}\u001b[39;00m\n\u001b[1;32m---> 55\u001b[0m \u001b[38;5;28mprint\u001b[39m(\u001b[43moperator\u001b[49m\u001b[38;5;241;43m.\u001b[39;49m\u001b[43mitemgetter\u001b[49m\u001b[43m(\u001b[49m\u001b[38;5;124;43m\"\u001b[39;49m\u001b[38;5;124;43mkey\u001b[39;49m\u001b[38;5;124;43m\"\u001b[39;49m\u001b[43m,\u001b[49m\u001b[43m \u001b[49m\u001b[38;5;124;43m\"\u001b[39;49m\u001b[38;5;124;43msubkey\u001b[39;49m\u001b[38;5;124;43m\"\u001b[39;49m\u001b[43m)\u001b[49m\u001b[43m(\u001b[49m\u001b[43mnested\u001b[49m\u001b[43m[\u001b[49m\u001b[38;5;124;43m\"\u001b[39;49m\u001b[38;5;124;43mkey\u001b[39;49m\u001b[38;5;124;43m\"\u001b[39;49m\u001b[43m]\u001b[49m\u001b[43m)\u001b[49m)  \u001b[38;5;66;03m# Get nested keys\u001b[39;00m\n\u001b[0;32m     57\u001b[0m \u001b[38;5;66;03m# Additional Functions\u001b[39;00m\n\u001b[0;32m     58\u001b[0m x \u001b[38;5;241m=\u001b[39m operator\u001b[38;5;241m.\u001b[39miadd(\u001b[38;5;241m3\u001b[39m, \u001b[38;5;241m5\u001b[39m)                \u001b[38;5;66;03m# In-place addition: 8\u001b[39;00m\n",
      "\u001b[1;31mKeyError\u001b[0m: 'key'"
     ]
    }
   ],
   "source": [
    "#Operator Module\n",
    "#The operator module in Python provides a set of functions that correspond to standard operators \n",
    "#(e.g., arithmetic, comparison, logical, and bitwise operators). \n",
    "#These functions are especially useful when writing functional-style programming, as they allow you to use operators as functions.\n",
    "import operator\n",
    "\n",
    "# Arithmetic Operators\n",
    "print(operator.add(3, 5))          # Addition: 8\n",
    "print(operator.sub(10, 5))         # Subtraction: 5\n",
    "print(operator.mul(4, 3))          # Multiplication: 12\n",
    "print(operator.truediv(8, 2))      # Division (float): 4.0\n",
    "print(operator.floordiv(7, 3))     # Floor division: 2\n",
    "print(operator.mod(7, 3))          # Modulus: 1\n",
    "print(operator.pow(2, 3))          # Exponentiation: 8\n",
    "\n",
    "# Comparison Operators\n",
    "print(operator.eq(5, 5))           # Equal: True\n",
    "print(operator.ne(5, 4))           # Not equal: True\n",
    "print(operator.lt(3, 5))           # Less than: True\n",
    "print(operator.le(3, 3))           # Less than or equal: True\n",
    "print(operator.gt(5, 3))           # Greater than: True\n",
    "print(operator.ge(5, 5))           # Greater than or equal: True\n",
    "\n",
    "# Logical Operators\n",
    "print(operator.and_(True, False))  # Logical AND: False\n",
    "print(operator.or_(True, False))   # Logical OR: True\n",
    "print(operator.not_(True))         # Logical NOT: False\n",
    "\n",
    "# Bitwise Operators\n",
    "print(operator.and_(3, 5))         # Bitwise AND: 1 (binary: 0011 & 0101)\n",
    "print(operator.or_(3, 5))          # Bitwise OR: 7 (binary: 0011 | 0101)\n",
    "print(operator.xor(3, 5))          # Bitwise XOR: 6 (binary: 0011 ^ 0101)\n",
    "print(operator.invert(3))          # Bitwise NOT: -4\n",
    "\n",
    "# Sequence Operations\n",
    "print(operator.concat(\"Hello \", \"World\")) # Concatenate strings: \"Hello World\"\n",
    "print(operator.getitem([1, 2, 3], 1))     # Get item: 2\n",
    "print(operator.setitem([1, 2, 3], 1, 4))  # Set item (modify list)\n",
    "a = [1, 2, 3]\n",
    "operator.delitem(a, 1)                    # Delete item from list\n",
    "print(a)                                  # Output: [1, 3]\n",
    "\n",
    "# Attribute and Method Access\n",
    "class MyClass:\n",
    "    def __init__(self):\n",
    "        self.value = 42\n",
    "\n",
    "obj = MyClass()\n",
    "print(operator.attrgetter(\"value\")(obj))   # Get attribute: 42\n",
    "print(operator.methodcaller(\"upper\")(\"hello\"))  # Call method: \"HELLO\"\n",
    "\n",
    "# Item Getter (for Multilevel Indexing)\n",
    "nested = {\"key\": {\"subkey\": 10}}\n",
    "print(operator.itemgetter(\"key\")(nested))       # Get \"key\": {\"subkey\": 10}\n",
    "print(operator.itemgetter(\"key\", \"subkey\")(nested[\"key\"]))  # Get nested keys\n",
    "\n",
    "# Additional Functions\n",
    "x = operator.iadd(3, 5)                # In-place addition: 8\n",
    "y = operator.imul(4, 2)                # In-place multiplication: 8\n",
    "z = operator.iconcat(\"Hi\", \" There\")   # In-place concatenation: \"Hi There\"\n"
   ]
  },
  {
   "cell_type": "code",
   "execution_count": 2,
   "id": "841e32d6-be12-4924-ba02-2c9d5b2ae053",
   "metadata": {},
   "outputs": [],
   "source": [
    "#CLOUSRES\n",
    "\n",
    "def outer():\n",
    "    x = 'Python'\n",
    "    def inner():\n",
    "        print(f\"Hello {x}\")\n",
    "    return inner()"
   ]
  },
  {
   "cell_type": "code",
   "execution_count": 3,
   "id": "8ea59339-d15f-45a5-bc1a-f737a3b50d64",
   "metadata": {},
   "outputs": [
    {
     "name": "stdout",
     "output_type": "stream",
     "text": [
      "Hello Python\n"
     ]
    }
   ],
   "source": [
    "outer()"
   ]
  },
  {
   "cell_type": "code",
   "execution_count": 4,
   "id": "f3a23b77-5529-4fd7-880f-decff6212f1c",
   "metadata": {},
   "outputs": [
    {
     "name": "stdout",
     "output_type": "stream",
     "text": [
      "Hello, Alice!\n",
      "Hello, Bob!\n"
     ]
    }
   ],
   "source": [
    "def outer_greeting(message):\n",
    "    # 'message' is part of the outer function's scope.\n",
    "    def greet(name):\n",
    "        # 'greet' uses the 'message' variable even though it's not defined inside greet.\n",
    "        print(f\"{message}, {name}!\")\n",
    "    return greet\n",
    "\n",
    "# Create a new function with a preset greeting\n",
    "say_hello = outer_greeting(\"Hello\")\n",
    "say_hello(\"Alice\")  # Output: Hello, Alice!\n",
    "say_hello(\"Bob\")    # Output: Hello, Bob!\n"
   ]
  },
  {
   "cell_type": "code",
   "execution_count": 5,
   "id": "dec8a857-a9a2-43cb-8136-d2a2fd3ed7c6",
   "metadata": {},
   "outputs": [
    {
     "name": "stdout",
     "output_type": "stream",
     "text": [
      "1\n",
      "2\n",
      "3\n"
     ]
    }
   ],
   "source": [
    "def make_counter():\n",
    "    count = 0  # This variable is captured by the inner function.\n",
    "    def counter():\n",
    "        nonlocal count  # 'nonlocal' allows modifying the outer variable.\n",
    "        count += 1\n",
    "        return count\n",
    "    return counter\n",
    "\n",
    "# Instantiate a new counter\n",
    "my_counter = make_counter()\n",
    "print(my_counter())  # Output: 1\n",
    "print(my_counter())  # Output: 2\n",
    "print(my_counter())  # Output: 3\n"
   ]
  },
  {
   "cell_type": "code",
   "execution_count": 6,
   "id": "48acc4d3-3be6-47c6-abd8-36d29130109c",
   "metadata": {},
   "outputs": [
    {
     "name": "stdout",
     "output_type": "stream",
     "text": [
      "User is not authenticated.\n",
      "User logged in.\n",
      "User is authenticated.\n",
      "User logged out.\n",
      "User is not authenticated.\n"
     ]
    }
   ],
   "source": [
    "def auth_manager():\n",
    "    is_authenticated = False  # Private state\n",
    "\n",
    "    def login():\n",
    "        nonlocal is_authenticated\n",
    "        is_authenticated = True\n",
    "        print(\"User logged in.\")\n",
    "\n",
    "    def logout():\n",
    "        nonlocal is_authenticated\n",
    "        is_authenticated = False\n",
    "        print(\"User logged out.\")\n",
    "\n",
    "    def check_auth():\n",
    "        print(f\"User is {'authenticated' if is_authenticated else 'not authenticated'}.\")\n",
    "\n",
    "    # Return the functions in a dictionary\n",
    "    return {\n",
    "        'login': login,\n",
    "        'logout': logout,\n",
    "        'check_auth': check_auth\n",
    "    }\n",
    "\n",
    "# Use the auth_manager closure\n",
    "auth = auth_manager()\n",
    "auth['check_auth']()  # Output: User is not authenticated.\n",
    "auth['login']()       # Output: User logged in.\n",
    "auth['check_auth']()  # Output: User is authenticated.\n",
    "auth['logout']()      # Output: User logged out.\n",
    "auth['check_auth']()  # Output: User is not authenticated.\n"
   ]
  },
  {
   "cell_type": "code",
   "execution_count": 11,
   "id": "6f0f078c-8082-465c-80ad-c6208afd6aa1",
   "metadata": {},
   "outputs": [
    {
     "name": "stdout",
     "output_type": "stream",
     "text": [
      "11\n",
      "12\n",
      "13\n"
     ]
    }
   ],
   "source": [
    "def create_address():\n",
    "    address = []\n",
    "    for i in range(1, 4):\n",
    "        # Bind i to a default parameter n; now the lambda becomes: lambda x, n=i: x + n\n",
    "        address.append(lambda x, n=i: x + n)\n",
    "    return address\n",
    "\n",
    "# Test the closures:\n",
    "funcs = create_address()\n",
    "print(funcs[0](10))  # Outputs 11 (10 + 1)\n",
    "print(funcs[1](10))  # Outputs 12 (10 + 2)\n",
    "print(funcs[2](10))  # Outputs 13 (10 + 3)"
   ]
  },
  {
   "cell_type": "code",
   "execution_count": 8,
   "id": "3c350381-80fa-4221-b9dc-982e2c5a4a44",
   "metadata": {},
   "outputs": [
    {
     "data": {
      "text/plain": [
       "[<function __main__.create_address.<locals>.<lambda>(x)>,\n",
       " <function __main__.create_address.<locals>.<lambda>(x)>,\n",
       " <function __main__.create_address.<locals>.<lambda>(x)>]"
      ]
     },
     "execution_count": 8,
     "metadata": {},
     "output_type": "execute_result"
    }
   ],
   "source": [
    "create_address()"
   ]
  },
  {
   "cell_type": "code",
   "execution_count": 10,
   "id": "0b44721f-c0fb-42d3-a517-0b80a4760fcb",
   "metadata": {},
   "outputs": [
    {
     "name": "stdout",
     "output_type": "stream",
     "text": [
      "[<function create_address.<locals>.<lambda> at 0x000001E3E43C5E40>, <function create_address.<locals>.<lambda> at 0x000001E3E43C6B60>, <function create_address.<locals>.<lambda> at 0x000001E3E43C65C0>]\n"
     ]
    }
   ],
   "source": [
    "print(create_address())"
   ]
  },
  {
   "cell_type": "code",
   "execution_count": 13,
   "id": "975cda82-ac6f-4bac-974e-8bd9e77e4739",
   "metadata": {},
   "outputs": [],
   "source": [
    "class Average:\n",
    "    def __init__(self):\n",
    "        self.numbers = []\n",
    "\n",
    "    def add(self,number):\n",
    "        self.numbers.append(number)\n",
    "        total = sum(self.numbers)\n",
    "        count = len(self.numbers)\n",
    "        return total / count"
   ]
  },
  {
   "cell_type": "code",
   "execution_count": 14,
   "id": "fa87cf67-58df-4eed-8eda-92b4b17908f0",
   "metadata": {},
   "outputs": [],
   "source": [
    "a = Average()"
   ]
  },
  {
   "cell_type": "code",
   "execution_count": 15,
   "id": "b56b9e95-998d-443c-8297-9817f23b6c1b",
   "metadata": {},
   "outputs": [
    {
     "data": {
      "text/plain": [
       "10.0"
      ]
     },
     "execution_count": 15,
     "metadata": {},
     "output_type": "execute_result"
    }
   ],
   "source": [
    "a.add(10)"
   ]
  },
  {
   "cell_type": "code",
   "execution_count": 16,
   "id": "8144a7f6-31be-4b3e-8694-e7c9108ab05c",
   "metadata": {},
   "outputs": [
    {
     "data": {
      "text/plain": [
       "15.0"
      ]
     },
     "execution_count": 16,
     "metadata": {},
     "output_type": "execute_result"
    }
   ],
   "source": [
    "a. add(20)"
   ]
  },
  {
   "cell_type": "code",
   "execution_count": 18,
   "id": "97cbf52a-80cc-4e3b-bd4d-44cd68fe4334",
   "metadata": {},
   "outputs": [
    {
     "data": {
      "text/plain": [
       "10.0"
      ]
     },
     "execution_count": 18,
     "metadata": {},
     "output_type": "execute_result"
    }
   ],
   "source": [
    "b = Average()\n",
    "b.add(10)"
   ]
  },
  {
   "cell_type": "code",
   "execution_count": 19,
   "id": "7f87fdba-f0c9-4b00-9bec-3ffa9f4d163e",
   "metadata": {},
   "outputs": [],
   "source": [
    "#This is a clousre\n",
    "def averager():\n",
    "    total = 0\n",
    "    count = 0\n",
    "    def add(number):\n",
    "        nonlocal total\n",
    "        nonlocal count\n",
    "        total = total + number\n",
    "        count = count + 1\n",
    "        return total/count\n",
    "    return add"
   ]
  },
  {
   "cell_type": "code",
   "execution_count": 23,
   "id": "0a22a38a-d84c-42e1-a2cb-4d50176abad1",
   "metadata": {},
   "outputs": [],
   "source": [
    "a = averager()"
   ]
  },
  {
   "cell_type": "code",
   "execution_count": 24,
   "id": "6b19c4b7-c6d9-4bc6-84f3-e28716eb5e32",
   "metadata": {},
   "outputs": [
    {
     "data": {
      "text/plain": [
       "10.0"
      ]
     },
     "execution_count": 24,
     "metadata": {},
     "output_type": "execute_result"
    }
   ],
   "source": [
    "a(10)"
   ]
  },
  {
   "cell_type": "code",
   "execution_count": 25,
   "id": "327e8e26-1bf0-4464-944d-c8461e4dbb98",
   "metadata": {},
   "outputs": [
    {
     "data": {
      "text/plain": [
       "15.0"
      ]
     },
     "execution_count": 25,
     "metadata": {},
     "output_type": "execute_result"
    }
   ],
   "source": [
    "a(20)"
   ]
  },
  {
   "cell_type": "code",
   "execution_count": 26,
   "id": "3b7cc4d2-fdfe-479c-8064-8c05a9f8daba",
   "metadata": {},
   "outputs": [],
   "source": [
    "b = averager()"
   ]
  },
  {
   "cell_type": "code",
   "execution_count": 27,
   "id": "2d579be6-2011-4aea-9bee-05477b9f2295",
   "metadata": {},
   "outputs": [
    {
     "data": {
      "text/plain": [
       "10.0"
      ]
     },
     "execution_count": 27,
     "metadata": {},
     "output_type": "execute_result"
    }
   ],
   "source": [
    "b(10)"
   ]
  },
  {
   "cell_type": "code",
   "execution_count": 28,
   "id": "8a123f8f-a97d-4bc5-81db-44f1616ccc23",
   "metadata": {},
   "outputs": [],
   "source": [
    "class Average:\n",
    "    def __init__(self):\n",
    "        self.total = 0\n",
    "        self.count = 0\n",
    "\n",
    "    def add(self,number):\n",
    "        self.total += number\n",
    "        self.count += 1\n",
    "        count = len(self.numbers)\n",
    "        return self.total / self.count"
   ]
  },
  {
   "cell_type": "code",
   "execution_count": 32,
   "id": "d298da37-5987-4795-b770-278ea5641d18",
   "metadata": {},
   "outputs": [],
   "source": [
    "def counter(intial_value=0):\n",
    "    def inc(increment=1):\n",
    "        nonlocal intial_value\n",
    "        intial_value += increment\n",
    "        return increment\n",
    "    return inc"
   ]
  },
  {
   "cell_type": "code",
   "execution_count": 41,
   "id": "68be7345-fa8a-4e45-8b73-796164d14874",
   "metadata": {},
   "outputs": [],
   "source": [
    "#########DECORATERS#################\n",
    "def counter(fn):\n",
    "    count = 0\n",
    "    def inner(*args , **kwargs):\n",
    "        nonlocal count\n",
    "        count += 1\n",
    "        print('{0} was called {1} times'.format(fn.__name__, count))\n",
    "        return fn(*args , **kwargs)\n",
    "    return inner"
   ]
  },
  {
   "cell_type": "code",
   "execution_count": 42,
   "id": "5407222c-5cea-49e4-8f80-382ea25fb242",
   "metadata": {},
   "outputs": [],
   "source": [
    "def add( a , b=0):\n",
    "    return a +b\n",
    "a = counter(add)"
   ]
  },
  {
   "cell_type": "code",
   "execution_count": 36,
   "id": "dca6f26b-25d5-4373-a05d-880d0d25a4cf",
   "metadata": {},
   "outputs": [],
   "source": []
  },
  {
   "cell_type": "code",
   "execution_count": 43,
   "id": "271d9c31-1e5f-4983-ae84-abe2d0c6da8f",
   "metadata": {},
   "outputs": [
    {
     "name": "stdout",
     "output_type": "stream",
     "text": [
      "add was called 1 times\n"
     ]
    },
    {
     "data": {
      "text/plain": [
       "13"
      ]
     },
     "execution_count": 43,
     "metadata": {},
     "output_type": "execute_result"
    }
   ],
   "source": [
    "a(5,8)"
   ]
  },
  {
   "cell_type": "code",
   "execution_count": 45,
   "id": "5f7f6b84-8f3b-47be-97e4-2c2a8ae9971f",
   "metadata": {},
   "outputs": [],
   "source": [
    "@counter\n",
    "def mult(a , b , c=1):\n",
    "    return a * b* c"
   ]
  },
  {
   "cell_type": "code",
   "execution_count": 1,
   "id": "60080cf4-c168-42f6-98af-ebe5087941ec",
   "metadata": {},
   "outputs": [
    {
     "ename": "NameError",
     "evalue": "name 'mult' is not defined",
     "output_type": "error",
     "traceback": [
      "\u001b[1;31m---------------------------------------------------------------------------\u001b[0m",
      "\u001b[1;31mNameError\u001b[0m                                 Traceback (most recent call last)",
      "Cell \u001b[1;32mIn[1], line 1\u001b[0m\n\u001b[1;32m----> 1\u001b[0m \u001b[43mmult\u001b[49m(\u001b[38;5;241m10\u001b[39m,\u001b[38;5;241m10\u001b[39m,\u001b[38;5;241m5\u001b[39m)\n",
      "\u001b[1;31mNameError\u001b[0m: name 'mult' is not defined"
     ]
    }
   ],
   "source": [
    "mult(10,10,5)"
   ]
  },
  {
   "cell_type": "code",
   "execution_count": 20,
   "id": "b08638fa-759c-4f35-8614-d72ffe7c14c7",
   "metadata": {},
   "outputs": [],
   "source": [
    "#Decorater applications TIMER\n",
    "def timed(fn):\n",
    "    from time import perf_counter\n",
    "    from functools import wraps\n",
    "\n",
    "    @wraps(fn)\n",
    "    def inner(*args, **kwargs):\n",
    "        start = perf_counter()\n",
    "        result = fn(*args , **kwargs)\n",
    "        end = perf_counter()\n",
    "        elapsed = end - start\n",
    "\n",
    "        args_ = [str(a) for a in args]\n",
    "        kwargs_ = ['{0}={1}'.format(k,v) for (k,v) in kwargs.items()]\n",
    "        all_args = args_ + kwargs_\n",
    "        args_str = ','.join(all_args)\n",
    "\n",
    "        print('{0}({1}) took {2:.6f}s to run.'.format(fn.__name__,args_str,elapsed))\n",
    "\n",
    "        return result\n",
    "    return inner"
   ]
  },
  {
   "cell_type": "code",
   "execution_count": null,
   "id": "51586a65-9823-4611-b414-29fefe38afc6",
   "metadata": {},
   "outputs": [],
   "source": [
    "#Fibbinic"
   ]
  },
  {
   "cell_type": "code",
   "execution_count": 21,
   "id": "0cc0490c-6d87-499f-b962-f6bfee9895d1",
   "metadata": {},
   "outputs": [],
   "source": [
    "def cal_fibb(n):\n",
    "    if n <=2:\n",
    "        return 1\n",
    "    else:\n",
    "        return cal_fibb(n-1) + cal_fibb(n-2)"
   ]
  },
  {
   "cell_type": "code",
   "execution_count": 17,
   "id": "04e1f8c0-6b04-42eb-9621-efd9a94b836a",
   "metadata": {},
   "outputs": [
    {
     "data": {
      "text/plain": [
       "55"
      ]
     },
     "execution_count": 17,
     "metadata": {},
     "output_type": "execute_result"
    }
   ],
   "source": [
    "cal_fibb(10)"
   ]
  },
  {
   "cell_type": "code",
   "execution_count": 22,
   "id": "1641e903-1183-41a2-8559-f0a2f839ace3",
   "metadata": {},
   "outputs": [],
   "source": [
    "@timed\n",
    "def recur(n):\n",
    "    return cal_fibb(n)"
   ]
  },
  {
   "cell_type": "code",
   "execution_count": 23,
   "id": "235a9d7d-f660-4fcf-b5cd-d76503e621f9",
   "metadata": {},
   "outputs": [
    {
     "name": "stdout",
     "output_type": "stream",
     "text": [
      "recur(6) took 0.000010s to run.\n"
     ]
    },
    {
     "data": {
      "text/plain": [
       "8"
      ]
     },
     "execution_count": 23,
     "metadata": {},
     "output_type": "execute_result"
    }
   ],
   "source": [
    "recur(6)"
   ]
  },
  {
   "cell_type": "code",
   "execution_count": 30,
   "id": "a4d0f219-f1de-437b-9a25-884729565ee2",
   "metadata": {},
   "outputs": [],
   "source": [
    "@timed\n",
    "def loop_fib(n):\n",
    "    f1 = 1\n",
    "    f2 = 1\n",
    "    for i in range(3 , n+1):\n",
    "        f1 , f2 = f2 , f2+ f1\n",
    "    return f2"
   ]
  },
  {
   "cell_type": "code",
   "execution_count": 31,
   "id": "31af180a-9025-4a9f-9abe-9370de30be2d",
   "metadata": {},
   "outputs": [
    {
     "name": "stdout",
     "output_type": "stream",
     "text": [
      "loop_fib(10) took 0.000008s to run.\n"
     ]
    },
    {
     "data": {
      "text/plain": [
       "55"
      ]
     },
     "execution_count": 31,
     "metadata": {},
     "output_type": "execute_result"
    }
   ],
   "source": [
    "loop_fib(10)"
   ]
  },
  {
   "cell_type": "code",
   "execution_count": 32,
   "id": "5c90ba08-c289-47bf-964c-7a44cb17cb19",
   "metadata": {},
   "outputs": [],
   "source": [
    "@timed\n",
    "def reducefib(n):\n",
    "    initial = (1,0)\n",
    "    dummy = range(n)\n",
    "    fib_n = reduce(lambda prev , n : (prev[0] + prev[1] , prev[1]) , dummy , initial)\n",
    "    return fib_n[0]"
   ]
  },
  {
   "cell_type": "code",
   "execution_count": 33,
   "id": "0c62529e-8529-448f-81bd-63cd9065ff21",
   "metadata": {},
   "outputs": [],
   "source": [
    "#Decorater application (Logger , stacked decoraters)"
   ]
  },
  {
   "cell_type": "code",
   "execution_count": 35,
   "id": "c811a491-efd9-483f-8b48-d46e1b3698d4",
   "metadata": {},
   "outputs": [],
   "source": [
    "def logger(fn):\n",
    "    from functools import wraps\n",
    "    from datetime import datetime , timezone\n",
    "\n",
    "    @wraps(fn)\n",
    "    def inner(*args , **kwargs):\n",
    "        run_dt = datetime.now(timezone.utc)\n",
    "        result = fn(*args , **kwargs)\n",
    "        print('{0} called {1} times'.format(run_dt,fn.__name__))\n",
    "        return result\n",
    "    return inner"
   ]
  },
  {
   "cell_type": "code",
   "execution_count": 36,
   "id": "8f2d82f2-a2b1-4b5d-8b62-6c11ad28a065",
   "metadata": {},
   "outputs": [],
   "source": [
    "@logger\n",
    "def func1():\n",
    "    pass"
   ]
  },
  {
   "cell_type": "code",
   "execution_count": 37,
   "id": "2c115359-ba80-42c1-8a39-dda696b7dab1",
   "metadata": {},
   "outputs": [],
   "source": [
    "@logger\n",
    "def func2():\n",
    "    pass"
   ]
  },
  {
   "cell_type": "code",
   "execution_count": 38,
   "id": "9d6f7cb0-82a6-4175-a5d1-814a83618318",
   "metadata": {},
   "outputs": [
    {
     "name": "stdout",
     "output_type": "stream",
     "text": [
      "2025-05-07 04:33:55.282578+00:00 called func1 times\n"
     ]
    }
   ],
   "source": [
    "func1()"
   ]
  },
  {
   "cell_type": "code",
   "execution_count": 39,
   "id": "b0624794-822a-4086-8b85-c058ddef6299",
   "metadata": {},
   "outputs": [],
   "source": [
    "#Decorater applications TIMER\n",
    "def timed1(fn):\n",
    "    from time import perf_counter\n",
    "    from functools import wraps\n",
    "\n",
    "    @wraps(fn)\n",
    "    def inner(*args, **kwargs):\n",
    "        start = perf_counter()\n",
    "        result = fn(*args , **kwargs)\n",
    "        end = perf_counter()\n",
    "        elapsed = end - start\n",
    "\n",
    "        print('{0} ran for {1:.6f}s.'.format(fn.__name__,elapsed))\n",
    "\n",
    "        return result\n",
    "    return inner"
   ]
  },
  {
   "cell_type": "code",
   "execution_count": 42,
   "id": "504f4f03-cbe7-4b88-863e-d1436addbaa6",
   "metadata": {},
   "outputs": [],
   "source": [
    "@logger\n",
    "@timed1\n",
    "def fact(n):\n",
    "    from operator import mul\n",
    "    from functools  import reduce\n",
    "\n",
    "    return reduce(mul , range(1, n+1))"
   ]
  },
  {
   "cell_type": "code",
   "execution_count": 43,
   "id": "e3ad7333-6af7-4bb2-9f0b-d1e61ddb5f0c",
   "metadata": {},
   "outputs": [
    {
     "name": "stdout",
     "output_type": "stream",
     "text": [
      "fact ran for 0.000013s.\n",
      "2025-05-07 05:06:16.552808+00:00 called fact times\n"
     ]
    },
    {
     "data": {
      "text/plain": [
       "120"
      ]
     },
     "execution_count": 43,
     "metadata": {},
     "output_type": "execute_result"
    }
   ],
   "source": [
    "fact(5)"
   ]
  },
  {
   "cell_type": "code",
   "execution_count": 45,
   "id": "8fc68c86-308c-4550-9897-276ac1d264e7",
   "metadata": {},
   "outputs": [],
   "source": [
    "def func1(fn):\n",
    "    def inner():\n",
    "        print(\"Running func1\")\n",
    "        return fn()\n",
    "    return inner"
   ]
  },
  {
   "cell_type": "code",
   "execution_count": 47,
   "id": "d75ff3a5-320b-471a-84ed-7f87edab5382",
   "metadata": {},
   "outputs": [],
   "source": [
    "def func2(fn):\n",
    "    def inner():\n",
    "        print(\"Running func2\")\n",
    "        return fn()\n",
    "    return inner"
   ]
  },
  {
   "cell_type": "code",
   "execution_count": 49,
   "id": "f10ba3cf-182c-45ef-b5a6-e46d897934c7",
   "metadata": {},
   "outputs": [],
   "source": [
    "@func1\n",
    "@func2\n",
    "def func3():\n",
    "    print(\"Running func3\")"
   ]
  },
  {
   "cell_type": "code",
   "execution_count": 52,
   "id": "f9b8b5dd-cd99-4b05-8552-a658692df62f",
   "metadata": {},
   "outputs": [
    {
     "name": "stdout",
     "output_type": "stream",
     "text": [
      "Running func1\n",
      "Running func2\n",
      "Running func3\n"
     ]
    }
   ],
   "source": [
    "func3()"
   ]
  },
  {
   "cell_type": "code",
   "execution_count": 55,
   "id": "4c25d20a-70df-4d68-80ba-0851056cb450",
   "metadata": {},
   "outputs": [],
   "source": [
    "def funcfib(n):\n",
    "    print(f\"Calculating the {n}\")\n",
    "    return 1 if n < 3 else  funcfib(n-1) + funcfib(n-2)"
   ]
  },
  {
   "cell_type": "code",
   "execution_count": 56,
   "id": "f7d4b71d-6b59-45c5-8149-0b67d889eecc",
   "metadata": {},
   "outputs": [
    {
     "name": "stdout",
     "output_type": "stream",
     "text": [
      "Calculating the 10\n",
      "Calculating the 9\n",
      "Calculating the 8\n",
      "Calculating the 7\n",
      "Calculating the 6\n",
      "Calculating the 5\n",
      "Calculating the 4\n",
      "Calculating the 3\n",
      "Calculating the 2\n",
      "Calculating the 1\n",
      "Calculating the 2\n",
      "Calculating the 3\n",
      "Calculating the 2\n",
      "Calculating the 1\n",
      "Calculating the 4\n",
      "Calculating the 3\n",
      "Calculating the 2\n",
      "Calculating the 1\n",
      "Calculating the 2\n",
      "Calculating the 5\n",
      "Calculating the 4\n",
      "Calculating the 3\n",
      "Calculating the 2\n",
      "Calculating the 1\n",
      "Calculating the 2\n",
      "Calculating the 3\n",
      "Calculating the 2\n",
      "Calculating the 1\n",
      "Calculating the 6\n",
      "Calculating the 5\n",
      "Calculating the 4\n",
      "Calculating the 3\n",
      "Calculating the 2\n",
      "Calculating the 1\n",
      "Calculating the 2\n",
      "Calculating the 3\n",
      "Calculating the 2\n",
      "Calculating the 1\n",
      "Calculating the 4\n",
      "Calculating the 3\n",
      "Calculating the 2\n",
      "Calculating the 1\n",
      "Calculating the 2\n",
      "Calculating the 7\n",
      "Calculating the 6\n",
      "Calculating the 5\n",
      "Calculating the 4\n",
      "Calculating the 3\n",
      "Calculating the 2\n",
      "Calculating the 1\n",
      "Calculating the 2\n",
      "Calculating the 3\n",
      "Calculating the 2\n",
      "Calculating the 1\n",
      "Calculating the 4\n",
      "Calculating the 3\n",
      "Calculating the 2\n",
      "Calculating the 1\n",
      "Calculating the 2\n",
      "Calculating the 5\n",
      "Calculating the 4\n",
      "Calculating the 3\n",
      "Calculating the 2\n",
      "Calculating the 1\n",
      "Calculating the 2\n",
      "Calculating the 3\n",
      "Calculating the 2\n",
      "Calculating the 1\n",
      "Calculating the 8\n",
      "Calculating the 7\n",
      "Calculating the 6\n",
      "Calculating the 5\n",
      "Calculating the 4\n",
      "Calculating the 3\n",
      "Calculating the 2\n",
      "Calculating the 1\n",
      "Calculating the 2\n",
      "Calculating the 3\n",
      "Calculating the 2\n",
      "Calculating the 1\n",
      "Calculating the 4\n",
      "Calculating the 3\n",
      "Calculating the 2\n",
      "Calculating the 1\n",
      "Calculating the 2\n",
      "Calculating the 5\n",
      "Calculating the 4\n",
      "Calculating the 3\n",
      "Calculating the 2\n",
      "Calculating the 1\n",
      "Calculating the 2\n",
      "Calculating the 3\n",
      "Calculating the 2\n",
      "Calculating the 1\n",
      "Calculating the 6\n",
      "Calculating the 5\n",
      "Calculating the 4\n",
      "Calculating the 3\n",
      "Calculating the 2\n",
      "Calculating the 1\n",
      "Calculating the 2\n",
      "Calculating the 3\n",
      "Calculating the 2\n",
      "Calculating the 1\n",
      "Calculating the 4\n",
      "Calculating the 3\n",
      "Calculating the 2\n",
      "Calculating the 1\n",
      "Calculating the 2\n"
     ]
    },
    {
     "data": {
      "text/plain": [
       "55"
      ]
     },
     "execution_count": 56,
     "metadata": {},
     "output_type": "execute_result"
    }
   ],
   "source": [
    "funcfib(10)"
   ]
  },
  {
   "cell_type": "code",
   "execution_count": 57,
   "id": "60f3c694-de75-4e8e-8c54-172a9f18cc6f",
   "metadata": {},
   "outputs": [],
   "source": [
    "#decoraters changing the originality of the function is called memoization"
   ]
  },
  {
   "cell_type": "code",
   "execution_count": 58,
   "id": "2b9c55d3-247b-41ae-a0af-88e4bb000b0f",
   "metadata": {},
   "outputs": [],
   "source": [
    "class Fib:\n",
    "    def __init__(self):\n",
    "        self.cache = {1 :1 , 2 : 1}\n",
    "\n",
    "    def fib(self , n):\n",
    "        if n not in self.cache:\n",
    "            print(f\"Calculating {n}\")\n",
    "            self.cache[n] = self.fib(n-1) + self.fib(n-2)\n",
    "        return self.cache[n]"
   ]
  },
  {
   "cell_type": "code",
   "execution_count": 59,
   "id": "0eee234c-37ec-40e2-a695-35ecfd7f1e35",
   "metadata": {},
   "outputs": [],
   "source": [
    "f = Fib()"
   ]
  },
  {
   "cell_type": "code",
   "execution_count": 62,
   "id": "6bb57f39-a13f-4855-85a1-271900bfd348",
   "metadata": {},
   "outputs": [
    {
     "name": "stdout",
     "output_type": "stream",
     "text": [
      "Calculating 3\n"
     ]
    },
    {
     "data": {
      "text/plain": [
       "2"
      ]
     },
     "execution_count": 62,
     "metadata": {},
     "output_type": "execute_result"
    }
   ],
   "source": [
    "f.fib(3)"
   ]
  },
  {
   "cell_type": "code",
   "execution_count": 64,
   "id": "dee7776e-ea96-4f6e-bfc1-cbe3e65f4fe7",
   "metadata": {},
   "outputs": [],
   "source": [
    "def memoize(fn):\n",
    "    cache = dict()\n",
    "\n",
    "    def inner(n):\n",
    "        if n not in cache:\n",
    "            cache[n] = fn(n)\n",
    "        return cache[n]\n",
    "    return inner"
   ]
  },
  {
   "cell_type": "code",
   "execution_count": 66,
   "id": "aadf2ffc-466d-4618-8774-ccdd02a1098e",
   "metadata": {},
   "outputs": [],
   "source": [
    "@memoize\n",
    "def fib(n):\n",
    "    print(\"Calculating fib{n}\")\n",
    "    return 1 if n < 3 else fib(n-1) + fib(n-2)"
   ]
  },
  {
   "cell_type": "code",
   "execution_count": 67,
   "id": "32de7de9-f05d-4d50-b07f-17f7ca7b2937",
   "metadata": {},
   "outputs": [
    {
     "name": "stdout",
     "output_type": "stream",
     "text": [
      "Calculating fib{n}\n",
      "Calculating fib{n}\n",
      "Calculating fib{n}\n",
      "Calculating fib{n}\n",
      "Calculating fib{n}\n"
     ]
    },
    {
     "data": {
      "text/plain": [
       "5"
      ]
     },
     "execution_count": 67,
     "metadata": {},
     "output_type": "execute_result"
    }
   ],
   "source": [
    "fib(5)"
   ]
  },
  {
   "cell_type": "code",
   "execution_count": 68,
   "id": "aa9e012d-8270-4b71-886c-b26f39b9c8d3",
   "metadata": {},
   "outputs": [
    {
     "data": {
      "text/plain": [
       "5"
      ]
     },
     "execution_count": 68,
     "metadata": {},
     "output_type": "execute_result"
    }
   ],
   "source": [
    "fib(5)"
   ]
  },
  {
   "cell_type": "code",
   "execution_count": 71,
   "id": "2d1e7f1e-a14d-406f-871d-35555856cb87",
   "metadata": {},
   "outputs": [],
   "source": [
    "@memoize\n",
    "def fact(n):\n",
    "    print(f\"Calculating {n}\")\n",
    "    return 1 if n < 2 else n * fact(n-1)"
   ]
  },
  {
   "cell_type": "code",
   "execution_count": 73,
   "id": "bd0108b6-ad9a-42da-a787-d11cb6ded8ca",
   "metadata": {},
   "outputs": [
    {
     "data": {
      "text/plain": [
       "120"
      ]
     },
     "execution_count": 73,
     "metadata": {},
     "output_type": "execute_result"
    }
   ],
   "source": [
    "fact(5)"
   ]
  },
  {
   "cell_type": "code",
   "execution_count": null,
   "id": "73291495-7d3c-43d7-bf67-1205db119c4a",
   "metadata": {},
   "outputs": [],
   "source": []
  }
 ],
 "metadata": {
  "kernelspec": {
   "display_name": "Python 3 (ipykernel)",
   "language": "python",
   "name": "python3"
  },
  "language_info": {
   "codemirror_mode": {
    "name": "ipython",
    "version": 3
   },
   "file_extension": ".py",
   "mimetype": "text/x-python",
   "name": "python",
   "nbconvert_exporter": "python",
   "pygments_lexer": "ipython3",
   "version": "3.11.9"
  }
 },
 "nbformat": 4,
 "nbformat_minor": 5
}
