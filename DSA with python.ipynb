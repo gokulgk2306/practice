{
 "cells": [
  {
   "cell_type": "code",
   "execution_count": 1,
   "id": "495bd178-6edc-4536-a3af-2f474f98e8cf",
   "metadata": {},
   "outputs": [],
   "source": [
    "#RECURSION\n",
    "\n",
    "def recursion_sam(n):\n",
    "    if n > 0:\n",
    "        k = n**2\n",
    "        print(k)\n",
    "        recursion_sam(n-1)"
   ]
  },
  {
   "cell_type": "code",
   "execution_count": 2,
   "id": "d8ba06a5-0992-4b76-9cd2-8db502b4b33f",
   "metadata": {},
   "outputs": [
    {
     "name": "stdout",
     "output_type": "stream",
     "text": [
      "16\n",
      "9\n",
      "4\n",
      "1\n"
     ]
    }
   ],
   "source": [
    "recursion_sam(4)"
   ]
  },
  {
   "cell_type": "code",
   "execution_count": 3,
   "id": "2aaf4a27-5c77-4bfb-9fd3-4cfbacf6760e",
   "metadata": {},
   "outputs": [],
   "source": [
    "#Tree Recursioon\n",
    "\n",
    "def recursion_tree(n):\n",
    "    if n > 0:\n",
    "        recursion_tree(n-1)\n",
    "        k = n ** 2\n",
    "        print(k)\n",
    "        recursion_tree(n-1)"
   ]
  },
  {
   "cell_type": "code",
   "execution_count": 4,
   "id": "986bab92-90bd-42a6-a379-580e7f59830c",
   "metadata": {},
   "outputs": [
    {
     "name": "stdout",
     "output_type": "stream",
     "text": [
      "1\n",
      "4\n",
      "1\n",
      "9\n",
      "1\n",
      "4\n",
      "1\n"
     ]
    }
   ],
   "source": [
    "recursion_tree(3)"
   ]
  },
  {
   "cell_type": "code",
   "execution_count": 5,
   "id": "bb2e6e87-4427-4fa6-a3c0-f109aa7dfeba",
   "metadata": {},
   "outputs": [],
   "source": [
    "def sum_rec(n):\n",
    "    if n==0:\n",
    "        return 0\n",
    "    return sum_rec(n-1) + n"
   ]
  },
  {
   "cell_type": "code",
   "execution_count": 6,
   "id": "ae43938d-34ac-4438-b762-9a565f8cbadf",
   "metadata": {},
   "outputs": [
    {
     "name": "stdout",
     "output_type": "stream",
     "text": [
      "6\n"
     ]
    }
   ],
   "source": [
    "print(sum_rec(3))"
   ]
  },
  {
   "cell_type": "code",
   "execution_count": 7,
   "id": "e72abd09-df6c-46ee-9d00-1bcb6005e73f",
   "metadata": {},
   "outputs": [],
   "source": [
    "def fact(n):\n",
    "    if n ==0 :\n",
    "        return 1\n",
    "    return fact(n-1) * n"
   ]
  },
  {
   "cell_type": "code",
   "execution_count": 8,
   "id": "23780dd2-1c6b-45d2-90b2-ab38ae0fd739",
   "metadata": {},
   "outputs": [
    {
     "name": "stdout",
     "output_type": "stream",
     "text": [
      "120\n"
     ]
    }
   ],
   "source": [
    "print(fact(5))"
   ]
  },
  {
   "cell_type": "code",
   "execution_count": 9,
   "id": "d2589c8d-bb1b-4609-b3a4-744d0c14e9b3",
   "metadata": {},
   "outputs": [],
   "source": [
    "#Linear Search\n",
    "def linear_search(A,key):\n",
    "    index = 0\n",
    "    while index < len(A):\n",
    "        if A[index] == key:\n",
    "            return index\n",
    "        index += 1\n",
    "    return -1"
   ]
  },
  {
   "cell_type": "code",
   "execution_count": 10,
   "id": "6209c715-f3a9-4f19-8dd4-513cbb46a816",
   "metadata": {},
   "outputs": [
    {
     "name": "stdout",
     "output_type": "stream",
     "text": [
      "4\n"
     ]
    }
   ],
   "source": [
    "A = [78,212,4,2,134]\n",
    "print(linear_search(A,134))"
   ]
  },
  {
   "cell_type": "code",
   "execution_count": 11,
   "id": "7897c490-1451-4940-bec8-dd90b3f2b4ac",
   "metadata": {},
   "outputs": [],
   "source": [
    "#Binary Search\n",
    "def binary_iterative(A,key):\n",
    "    n = len(A)\n",
    "    l = 0\n",
    "    r = n-1\n",
    "    while l <= r:\n",
    "        m = (l+r)//2\n",
    "        if A[m] == key:\n",
    "            return m\n",
    "        elif key < A[m]:\n",
    "            r = m-1\n",
    "        elif key > A[m]:\n",
    "            l = m+1\n",
    "    return \"Not Found\""
   ]
  },
  {
   "cell_type": "code",
   "execution_count": 12,
   "id": "f4506846-1506-4cf0-8733-7fc8d0cb87af",
   "metadata": {},
   "outputs": [
    {
     "name": "stdout",
     "output_type": "stream",
     "text": [
      "7\n"
     ]
    }
   ],
   "source": [
    "a = [1,4,5,7,9,9,12,193]\n",
    "binaryi = binary_iterative(a,193)\n",
    "print(binaryi)"
   ]
  },
  {
   "cell_type": "code",
   "execution_count": 13,
   "id": "bedd13d4-852f-43b4-a8ba-d6a90cd97bc9",
   "metadata": {},
   "outputs": [],
   "source": [
    "def binary_recursion(a , key , l , r):\n",
    "    if l > r:\n",
    "        return \"Not Found\"\n",
    "    else:\n",
    "        m = (l+r)//2\n",
    "        if a[m] == key:\n",
    "            return m\n",
    "        elif a[m] > key:\n",
    "            return binary_recursion(a, key, l , m-1)\n",
    "        elif a[m] < key:\n",
    "            return binary_recursion(a, key , m+1 , r)"
   ]
  },
  {
   "cell_type": "code",
   "execution_count": 14,
   "id": "6a4a556d-8883-4c12-9970-1bbdc601cf57",
   "metadata": {},
   "outputs": [
    {
     "name": "stdout",
     "output_type": "stream",
     "text": [
      "0\n"
     ]
    }
   ],
   "source": [
    "a = [1,45,2423,5535,82653,99999,927264]\n",
    "binaryr = binary_recursion(a,1,0,len(a)-1)\n",
    "print(binaryr)"
   ]
  },
  {
   "cell_type": "code",
   "execution_count": 15,
   "id": "3f0f36e7-b60e-4508-a762-a55835c98484",
   "metadata": {},
   "outputs": [
    {
     "data": {
      "text/plain": [
       "1"
      ]
     },
     "execution_count": 15,
     "metadata": {},
     "output_type": "execute_result"
    }
   ],
   "source": [
    "0+2//2"
   ]
  },
  {
   "cell_type": "code",
   "execution_count": 16,
   "id": "fe4e4fe7-4168-4506-8981-f383bcd1b9c1",
   "metadata": {},
   "outputs": [],
   "source": [
    "#selection sort\n",
    "def selection_sort(a):\n",
    "    l = len(a)\n",
    "    for i in range(l-1):\n",
    "        position = i\n",
    "        for j in range(i+1,l):\n",
    "            if a[j] < a[position]:\n",
    "                position = j\n",
    "        temp = a[i]\n",
    "        a[i] = a[position]\n",
    "        a[position] = temp"
   ]
  },
  {
   "cell_type": "code",
   "execution_count": 17,
   "id": "00db0e33-cdff-473d-8c06-f458682e7f2b",
   "metadata": {},
   "outputs": [
    {
     "name": "stdout",
     "output_type": "stream",
     "text": [
      "[1, 2, 2, 5, 6, 7, 9]\n"
     ]
    }
   ],
   "source": [
    "a=[7,2,5,2,6,9,1]\n",
    "selectionsort = selection_sort(a)\n",
    "print(a)"
   ]
  },
  {
   "cell_type": "code",
   "execution_count": 18,
   "id": "21864f00-81f7-4cc6-83f6-69a9296b1e5b",
   "metadata": {},
   "outputs": [],
   "source": [
    "#Insertiuon Sort\n",
    "def insertion_sort(a):\n",
    "    l = len(a)\n",
    "    for i in range(1,l):\n",
    "        position = i\n",
    "        cvalue = a[position]\n",
    "        while position > 0 and a[position-1] > cvalue:\n",
    "            a[position] = a[position-1]\n",
    "            position = position -1\n",
    "        a[position]= cvalue"
   ]
  },
  {
   "cell_type": "code",
   "execution_count": 19,
   "id": "5b036343-dee2-433d-b12e-992e565152ce",
   "metadata": {},
   "outputs": [
    {
     "name": "stdout",
     "output_type": "stream",
     "text": [
      "[1, 2, 2, 5, 6, 7, 9]\n"
     ]
    }
   ],
   "source": [
    "a=[7,2,5,2,6,9,1]\n",
    "insertion = insertion_sort(a)\n",
    "print(a)"
   ]
  },
  {
   "cell_type": "code",
   "execution_count": 20,
   "id": "7e5eff8d-4795-402d-8ef5-e7a2e9f84aaf",
   "metadata": {},
   "outputs": [],
   "source": [
    "#bubble sort\n",
    "def bubble_sort(a):\n",
    "    l = len(a)\n",
    "    for passes in range(l-1,0,-1):\n",
    "        for i in range(passes):\n",
    "            if a[i] > a[i+1]:\n",
    "                temp = a[i]\n",
    "                a[i] = a[i+1]\n",
    "                a[i+1] = temp"
   ]
  },
  {
   "cell_type": "code",
   "execution_count": 21,
   "id": "d35c4b13-b894-4f71-8551-6d43350821e6",
   "metadata": {},
   "outputs": [
    {
     "name": "stdout",
     "output_type": "stream",
     "text": [
      "[1, 2, 2, 5, 6, 7, 9]\n"
     ]
    }
   ],
   "source": [
    "a=[7,2,5,2,6,9,1]\n",
    "bubblesort = bubble_sort(a)\n",
    "print(a)"
   ]
  },
  {
   "cell_type": "code",
   "execution_count": 22,
   "id": "23ca477b-ef7e-41e0-ae58-c1a01dc10ea4",
   "metadata": {},
   "outputs": [],
   "source": [
    "def count_sort(a):\n",
    "    n = len(a)\n",
    "    maxsize = max(a)\n",
    "    carray = [0] * (maxsize + 1)\n",
    "    for i in range(n):\n",
    "        carray[a[i]] = carray[a[i]] + 1\n",
    "    i = 0 \n",
    "    j = 0\n",
    "    while i < maxsize+1:\n",
    "        if carray[i] > 0:\n",
    "            a[j] = i\n",
    "            j = j +1\n",
    "            carray[i] = carray[i] -1\n",
    "        else:\n",
    "            i = i +1"
   ]
  },
  {
   "cell_type": "code",
   "execution_count": 23,
   "id": "cdb5f4b3-e668-45de-afd3-bd364a08d96b",
   "metadata": {},
   "outputs": [
    {
     "name": "stdout",
     "output_type": "stream",
     "text": [
      "[1, 2, 2, 5, 6, 7, 9]\n"
     ]
    }
   ],
   "source": [
    "a=[7,2,5,2,6,9,1]\n",
    "countsort = count_sort(a)\n",
    "print(a)"
   ]
  },
  {
   "cell_type": "code",
   "execution_count": 24,
   "id": "29f9e89c-8ddd-4485-a2ee-d45c4d05729d",
   "metadata": {},
   "outputs": [],
   "source": [
    "def radix_sort(a):\n",
    "    n = len(a)\n",
    "    maxelement = max(a)\n",
    "    digits = len(str(maxelement))\n",
    "    l = []\n",
    "    bins = [l] * 10\n",
    "    for i in range(digits):\n",
    "        for j in range(n):\n",
    "            e = int((a[j]/pow(10,i)) %10)\n",
    "            if len(bins[e]) > 0:\n",
    "                bins[e].append(a[j])\n",
    "            else:\n",
    "                bins[e] = [a[j]]\n",
    "        k = 0\n",
    "        for x in range(10):\n",
    "            if len(bins[x]) > 0:\n",
    "                for y in range(len(bins[x])):\n",
    "                    a[k] = bins[x].pop(0)\n",
    "                    k = k + 1\n",
    "    "
   ]
  },
  {
   "cell_type": "code",
   "execution_count": 25,
   "id": "85466651-e735-478f-8054-ba6094beaf77",
   "metadata": {},
   "outputs": [
    {
     "name": "stdout",
     "output_type": "stream",
     "text": [
      "[1, 2, 2, 5, 6, 7, 9]\n"
     ]
    }
   ],
   "source": [
    "a=[7,2,5,2,6,9,1]\n",
    "radixsort = radix_sort(a)\n",
    "print(a)"
   ]
  },
  {
   "cell_type": "code",
   "execution_count": 26,
   "id": "5e5e22a6-7555-4930-9c6a-b677fb91433c",
   "metadata": {},
   "outputs": [
    {
     "name": "stdout",
     "output_type": "stream",
     "text": [
      "[1, 2, 2, 5, 6, 7, 9]\n"
     ]
    }
   ],
   "source": [
    "#Python own implementation\n",
    "a=[7,2,5,2,6,9,1]\n",
    "a.sort()\n",
    "print(a)"
   ]
  },
  {
   "cell_type": "code",
   "execution_count": 27,
   "id": "9cf7cc09-0606-460e-91b5-4919ebd0da4f",
   "metadata": {},
   "outputs": [
    {
     "name": "stdout",
     "output_type": "stream",
     "text": [
      "[1, 2, 2, 5, 6, 7, 9]\n"
     ]
    }
   ],
   "source": [
    "#Python own implementation\n",
    "b=[7,2,5,2,6,9,1]\n",
    "b = sorted(a)\n",
    "print(b)"
   ]
  },
  {
   "cell_type": "code",
   "execution_count": 28,
   "id": "f28afbb0-9f37-419e-a6f4-462c38859fbe",
   "metadata": {},
   "outputs": [],
   "source": [
    "#Linked List'\n",
    "class _Node:\n",
    "    __slots__= '_element','_next'\n",
    "\n",
    "    def __init__(self,element,next):\n",
    "        self._element = element\n",
    "        self._next = next\n",
    "\n",
    "class LinkedList:\n",
    "    def __init__(self):\n",
    "        self._head = None\n",
    "        self._tail = None\n",
    "        self._size = 0\n",
    "\n",
    "    def __len__(self):\n",
    "        return self._size\n",
    "\n",
    "    def isempty(self):\n",
    "        return self._size == 0\n",
    "\n",
    "    def addlast(self,e):\n",
    "        newest = _Node(e,None)\n",
    "        if self.isempty():\n",
    "            self._head = newest\n",
    "        else:\n",
    "            self._tail._next = newest\n",
    "        self._tail = newest\n",
    "        self._size +=1\n",
    "    def search(self,key):\n",
    "        p = self._head\n",
    "        index = 0\n",
    "        while p:\n",
    "            if p._element == key:\n",
    "                return index\n",
    "            p = p._next\n",
    "            index +=1\n",
    "        return \"Not Found\"\n",
    "            \n",
    "\n",
    "    def display(self):\n",
    "        p = self._head\n",
    "        while p:\n",
    "            print(p._element,end='-->')\n",
    "            p = p._next\n",
    "        print()\n",
    "    \n",
    "        \n",
    "        \n",
    "        "
   ]
  },
  {
   "cell_type": "code",
   "execution_count": 29,
   "id": "edb19875-629d-49dc-870a-857b874a5b21",
   "metadata": {},
   "outputs": [
    {
     "name": "stdout",
     "output_type": "stream",
     "text": [
      "7-->4-->12-->\n"
     ]
    },
    {
     "data": {
      "text/plain": [
       "'Not Found'"
      ]
     },
     "execution_count": 29,
     "metadata": {},
     "output_type": "execute_result"
    }
   ],
   "source": [
    "L = LinkedList()\n",
    "L.addlast(7)\n",
    "L.addlast(4)\n",
    "L.addlast(12)\n",
    "L.display()\n",
    "L.search(11)\n"
   ]
  },
  {
   "cell_type": "code",
   "execution_count": 49,
   "id": "d6c32bbd-662c-44d5-9228-654e84d6d0c0",
   "metadata": {},
   "outputs": [],
   "source": [
    "#Insert Begineing\n",
    "class _Node:\n",
    "    __slots__ ='_element','_next'\n",
    "\n",
    "    def __init__(self,element,next):\n",
    "        self._element = element\n",
    "        self._next = next\n",
    "        \n",
    "class LinkedList:\n",
    "    def __init__(self):\n",
    "        self._head = None\n",
    "        self._tail = None\n",
    "        self._size = 0\n",
    "    def __len__(self):\n",
    "        return self._size\n",
    "\n",
    "    def isempty(self):\n",
    "        return self._size == 0\n",
    "\n",
    "    def addlast(self,e):\n",
    "        newest = _Node(e,None)\n",
    "        if self.isempty():\n",
    "            self._head = newest\n",
    "        else:\n",
    "            self._tail._next = newest\n",
    "        self._tail = newest\n",
    "        self._size += 1\n",
    "    def display(self):\n",
    "        p = self._head\n",
    "        while p:\n",
    "            print(p._element,end='--->')\n",
    "            p = p._next\n",
    "        print()\n",
    "    def search(self,key):\n",
    "        p = self._head\n",
    "        index = 0\n",
    "        while p:\n",
    "            if p._element == key:\n",
    "                return index\n",
    "            else:\n",
    "                p = p._next\n",
    "                index +=1\n",
    "        return \"Not found\"\n",
    "    def insertfirst(self,e):\n",
    "        newest = _Node(e, None)\n",
    "        if self.isempty():\n",
    "            self._head = newest\n",
    "            self._tail = newest\n",
    "        else:\n",
    "            newest._next = self._head\n",
    "            self._head = newest\n",
    "        self._size +=1\n",
    "        \n",
    "    def addany(self,e,position):\n",
    "        newest = _Node(e,None)\n",
    "        p = self._head\n",
    "        i = 1\n",
    "        while i < position-1:\n",
    "            p = p._next\n",
    "            i = i +1\n",
    "        newest._next = p._next\n",
    "        p._next = newest\n",
    "        self._size +=1\n",
    "\n",
    "    def removefirst(self):\n",
    "        if self.isempty():\n",
    "            return \"List is Empty\"\n",
    "        else:\n",
    "            e = self._head._element\n",
    "            self._head = self._head._next\n",
    "            self._size = self._size -1\n",
    "            if self.isempty():\n",
    "                self._tail = None\n",
    "            return e\n",
    "\n",
    "    def removelast(self):\n",
    "        if self.isempty():\n",
    "            return \"List is empty\"\n",
    "        p = self._head\n",
    "        i = 1\n",
    "        while i < len(self) -1 :\n",
    "            p = p._next\n",
    "            i = i +1\n",
    "        self._tail = p\n",
    "        p = p._next\n",
    "        e = p._element\n",
    "        self._tail._next = None\n",
    "        self._size -=1\n",
    "        return e\n",
    "\n",
    "    def removeany(self,position):\n",
    "        if self.isempty():\n",
    "            return \"List is empty\"\n",
    "        else:\n",
    "            p = self._head\n",
    "            i = 1\n",
    "            while i < position -1 :\n",
    "                p = p._next\n",
    "                i = i+1\n",
    "            e = p._next._element\n",
    "            p._next = p._next._next\n",
    "            self._size -=1\n",
    "            return e\n",
    "            \n",
    "        "
   ]
  },
  {
   "cell_type": "code",
   "execution_count": 51,
   "id": "5991289e-147b-42e4-a1be-83ab70240933",
   "metadata": {},
   "outputs": [
    {
     "name": "stdout",
     "output_type": "stream",
     "text": [
      "7--->4--->12--->\n",
      "7--->4--->12--->16--->82--->\n",
      "7--->4--->12--->16--->82--->16--->89--->\n",
      "7--->4--->12--->16--->20--->82--->16--->89--->\n",
      "7\n",
      "4--->12--->16--->20--->82--->16--->89--->\n",
      "89\n",
      "4--->12--->16--->20--->82--->16--->\n",
      "20\n",
      "4--->12--->16--->82--->16--->\n"
     ]
    }
   ],
   "source": [
    "L = LinkedList()\n",
    "L.addlast(7)\n",
    "L.addlast(4)\n",
    "L.addlast(12)\n",
    "L.display()\n",
    "L.search(12)\n",
    "L.addlast(16)\n",
    "L.addlast(82)\n",
    "L.display()\n",
    "L.addlast(16)\n",
    "L.addlast(89)\n",
    "L.display()\n",
    "L.addany(20,5)\n",
    "L.display()\n",
    "print(L.removefirst())\n",
    "L.display()\n",
    "print(L.removelast())\n",
    "L.display()\n",
    "print(L.removeany(4))\n",
    "L.display()"
   ]
  },
  {
   "cell_type": "code",
   "execution_count": 74,
   "id": "74b4c804-15a9-4096-9ad9-4f50b7286ab9",
   "metadata": {},
   "outputs": [],
   "source": [
    "#CIRCULAR LINKED LIST\n",
    "class _Node:\n",
    "    __slots__='_element','_next'\n",
    "\n",
    "    def __init__(self,element,next):\n",
    "        self._element = element\n",
    "        self._next = next\n",
    "class CircularLinkedList:\n",
    "    def __init__(self):\n",
    "        self._head = None\n",
    "        self._tail = None\n",
    "        self._size = 0\n",
    "    def __len__(self):\n",
    "        return self._size\n",
    "\n",
    "    def isempty(self):\n",
    "        return self._size == 0\n",
    "\n",
    "    def addlast(self,e):\n",
    "        newest = _Node(e,None)\n",
    "        if self.isempty():\n",
    "            newest._next = newest\n",
    "            self._head = newest\n",
    "        else:\n",
    "            newest._next = self._tail._next\n",
    "            self._tail._next = newest\n",
    "        self._tail = newest\n",
    "        self._size +=1\n",
    "\n",
    "    def display(self):\n",
    "        p= self._head\n",
    "        i = 0\n",
    "        while i < len(self):\n",
    "            print(p._element,end='---->')\n",
    "            p = p._next\n",
    "            i = i +1\n",
    "        print()\n",
    "    def addfirst(self,e):\n",
    "        newest = _Node(e,None)\n",
    "        if self.isempty():\n",
    "            newest._next = newest\n",
    "            self._head = newest\n",
    "            self._tail = newest\n",
    "        else:\n",
    "            self._tail._next = newest\n",
    "            newest._next = self._head\n",
    "        self._head = newest\n",
    "        self._size +=1\n",
    "\n",
    "\n",
    "    "
   ]
  },
  {
   "cell_type": "code",
   "execution_count": 77,
   "id": "354544a4-f341-4479-9efa-180955426f0e",
   "metadata": {},
   "outputs": [
    {
     "name": "stdout",
     "output_type": "stream",
     "text": [
      "7---->\n",
      "7---->18---->\n",
      "7---->18---->22---->\n",
      "7---->18---->22---->25---->\n",
      "5---->7---->18---->22---->25---->\n"
     ]
    }
   ],
   "source": [
    "C = CircularLinkedList()\n",
    "C.addlast(7)\n",
    "C.display()\n",
    "C.addlast(18)\n",
    "C.display()\n",
    "C.addlast(22)\n",
    "C.display()\n",
    "C.addlast(25)\n",
    "C.display()\n",
    "C.addfirst(5)\n",
    "C.display()"
   ]
  }
 ],
 "metadata": {
  "kernelspec": {
   "display_name": "Python 3 (ipykernel)",
   "language": "python",
   "name": "python3"
  },
  "language_info": {
   "codemirror_mode": {
    "name": "ipython",
    "version": 3
   },
   "file_extension": ".py",
   "mimetype": "text/x-python",
   "name": "python",
   "nbconvert_exporter": "python",
   "pygments_lexer": "ipython3",
   "version": "3.11.9"
  }
 },
 "nbformat": 4,
 "nbformat_minor": 5
}
