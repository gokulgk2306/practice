{
 "cells": [
  {
   "cell_type": "code",
   "execution_count": 4,
   "id": "495bd178-6edc-4536-a3af-2f474f98e8cf",
   "metadata": {},
   "outputs": [],
   "source": [
    "#RECURSION\n",
    "\n",
    "def recursion_sam(n):\n",
    "    if n > 0:\n",
    "        k = n**2\n",
    "        print(k)\n",
    "        recursion_sam(n-1)"
   ]
  },
  {
   "cell_type": "code",
   "execution_count": 5,
   "id": "d8ba06a5-0992-4b76-9cd2-8db502b4b33f",
   "metadata": {},
   "outputs": [
    {
     "name": "stdout",
     "output_type": "stream",
     "text": [
      "16\n",
      "9\n",
      "4\n",
      "1\n"
     ]
    }
   ],
   "source": [
    "recursion_sam(4)"
   ]
  },
  {
   "cell_type": "code",
   "execution_count": 7,
   "id": "2aaf4a27-5c77-4bfb-9fd3-4cfbacf6760e",
   "metadata": {},
   "outputs": [],
   "source": [
    "#Tree Recursioon\n",
    "\n",
    "def recursion_tree(n):\n",
    "    if n > 0:\n",
    "        recursion_tree(n-1)\n",
    "        k = n ** 2\n",
    "        print(k)\n",
    "        recursion_tree(n-1)"
   ]
  },
  {
   "cell_type": "code",
   "execution_count": 9,
   "id": "986bab92-90bd-42a6-a379-580e7f59830c",
   "metadata": {},
   "outputs": [
    {
     "name": "stdout",
     "output_type": "stream",
     "text": [
      "1\n",
      "4\n",
      "1\n",
      "9\n",
      "1\n",
      "4\n",
      "1\n"
     ]
    }
   ],
   "source": [
    "recursion_tree(3)"
   ]
  },
  {
   "cell_type": "code",
   "execution_count": 17,
   "id": "bb2e6e87-4427-4fa6-a3c0-f109aa7dfeba",
   "metadata": {},
   "outputs": [],
   "source": [
    "def sum_rec(n):\n",
    "    if n==0:\n",
    "        return 0\n",
    "    return sum_rec(n-1) + n"
   ]
  },
  {
   "cell_type": "code",
   "execution_count": 20,
   "id": "ae43938d-34ac-4438-b762-9a565f8cbadf",
   "metadata": {},
   "outputs": [
    {
     "name": "stdout",
     "output_type": "stream",
     "text": [
      "6\n"
     ]
    }
   ],
   "source": [
    "print(sum_rec(3))"
   ]
  },
  {
   "cell_type": "code",
   "execution_count": 24,
   "id": "e72abd09-df6c-46ee-9d00-1bcb6005e73f",
   "metadata": {},
   "outputs": [],
   "source": [
    "def fact(n):\n",
    "    if n ==0 :\n",
    "        return 1\n",
    "    return fact(n-1) * n"
   ]
  },
  {
   "cell_type": "code",
   "execution_count": 26,
   "id": "23780dd2-1c6b-45d2-90b2-ab38ae0fd739",
   "metadata": {},
   "outputs": [
    {
     "name": "stdout",
     "output_type": "stream",
     "text": [
      "120\n"
     ]
    }
   ],
   "source": [
    "print(fact(5))"
   ]
  },
  {
   "cell_type": "code",
   "execution_count": 28,
   "id": "d2589c8d-bb1b-4609-b3a4-744d0c14e9b3",
   "metadata": {},
   "outputs": [],
   "source": [
    "#Linear Search\n",
    "def linear_search(A,key):\n",
    "    index = 0\n",
    "    while index < len(A):\n",
    "        if A[index] == key:\n",
    "            return index\n",
    "        index += 1\n",
    "    return -1"
   ]
  },
  {
   "cell_type": "code",
   "execution_count": 30,
   "id": "6209c715-f3a9-4f19-8dd4-513cbb46a816",
   "metadata": {},
   "outputs": [
    {
     "name": "stdout",
     "output_type": "stream",
     "text": [
      "4\n"
     ]
    }
   ],
   "source": [
    "A = [78,212,4,2,134]\n",
    "print(linear_search(A,134))"
   ]
  },
  {
   "cell_type": "code",
   "execution_count": 32,
   "id": "7897c490-1451-4940-bec8-dd90b3f2b4ac",
   "metadata": {},
   "outputs": [],
   "source": [
    "#Binary Search\n",
    "def binary_iterative(A,key):\n",
    "    n = len(A)\n",
    "    l = 0\n",
    "    r = n-1\n",
    "    while l <= r:\n",
    "        m = (l+r)//2\n",
    "        if A[m] == key:\n",
    "            return m\n",
    "        elif key < A[m]:\n",
    "            r = m-1\n",
    "        elif key > A[m]:\n",
    "            l = m+1\n",
    "    return \"Not Found\""
   ]
  },
  {
   "cell_type": "code",
   "execution_count": 37,
   "id": "f4506846-1506-4cf0-8733-7fc8d0cb87af",
   "metadata": {},
   "outputs": [
    {
     "name": "stdout",
     "output_type": "stream",
     "text": [
      "7\n"
     ]
    }
   ],
   "source": [
    "a = [1,4,5,7,9,9,12,193]\n",
    "binaryi = binary_iterative(a,193)\n",
    "print(binaryi)"
   ]
  },
  {
   "cell_type": "code",
   "execution_count": 39,
   "id": "bedd13d4-852f-43b4-a8ba-d6a90cd97bc9",
   "metadata": {},
   "outputs": [],
   "source": [
    "def binary_recursion(a , key , l , r):\n",
    "    if l > r:\n",
    "        return \"Not Found\"\n",
    "    else:\n",
    "        m = (l+r)//2\n",
    "        if a[m] == key:\n",
    "            return m\n",
    "        elif a[m] > key:\n",
    "            return binary_recursion(a, key, l , m-1)\n",
    "        elif a[m] < key:\n",
    "            return binary_recursion(a, key , m+1 , r)"
   ]
  },
  {
   "cell_type": "code",
   "execution_count": 48,
   "id": "6a4a556d-8883-4c12-9970-1bbdc601cf57",
   "metadata": {},
   "outputs": [
    {
     "name": "stdout",
     "output_type": "stream",
     "text": [
      "0\n"
     ]
    }
   ],
   "source": [
    "a = [1,45,2423,5535,82653,99999,927264]\n",
    "binaryr = binary_recursion(a,1,0,len(a)-1)\n",
    "print(binaryr)"
   ]
  },
  {
   "cell_type": "code",
   "execution_count": 50,
   "id": "3f0f36e7-b60e-4508-a762-a55835c98484",
   "metadata": {},
   "outputs": [
    {
     "data": {
      "text/plain": [
       "1"
      ]
     },
     "execution_count": 50,
     "metadata": {},
     "output_type": "execute_result"
    }
   ],
   "source": [
    "0+2//2"
   ]
  },
  {
   "cell_type": "code",
   "execution_count": 57,
   "id": "fe4e4fe7-4168-4506-8981-f383bcd1b9c1",
   "metadata": {},
   "outputs": [],
   "source": [
    "#selection sort\n",
    "def selection_sort(a):\n",
    "    l = len(a)\n",
    "    for i in range(l-1):\n",
    "        position = i\n",
    "        for j in range(i+1,l):\n",
    "            if a[j] < a[position]:\n",
    "                position = j\n",
    "        temp = a[i]\n",
    "        a[i] = a[position]\n",
    "        a[position] = temp"
   ]
  },
  {
   "cell_type": "code",
   "execution_count": 60,
   "id": "00db0e33-cdff-473d-8c06-f458682e7f2b",
   "metadata": {},
   "outputs": [
    {
     "name": "stdout",
     "output_type": "stream",
     "text": [
      "[1, 2, 2, 5, 6, 7, 9]\n"
     ]
    }
   ],
   "source": [
    "a=[7,2,5,2,6,9,1]\n",
    "selectionsort = selection_sort(a)\n",
    "print(a)"
   ]
  },
  {
   "cell_type": "code",
   "execution_count": 73,
   "id": "21864f00-81f7-4cc6-83f6-69a9296b1e5b",
   "metadata": {},
   "outputs": [],
   "source": [
    "#Insertiuon Sort\n",
    "def insertion_sort(a):\n",
    "    l = len(a)\n",
    "    for i in range(1,l):\n",
    "        position = i\n",
    "        cvalue = a[position]\n",
    "        while position > 0 and a[position-1] > cvalue:\n",
    "            a[position] = a[position-1]\n",
    "            position = position -1\n",
    "        a[position]= cvalue"
   ]
  },
  {
   "cell_type": "code",
   "execution_count": 75,
   "id": "5b036343-dee2-433d-b12e-992e565152ce",
   "metadata": {},
   "outputs": [
    {
     "name": "stdout",
     "output_type": "stream",
     "text": [
      "[1, 2, 2, 5, 6, 7, 9]\n"
     ]
    }
   ],
   "source": [
    "a=[7,2,5,2,6,9,1]\n",
    "insertion = insertion_sort(a)\n",
    "print(a)"
   ]
  },
  {
   "cell_type": "code",
   "execution_count": 84,
   "id": "7e5eff8d-4795-402d-8ef5-e7a2e9f84aaf",
   "metadata": {},
   "outputs": [],
   "source": [
    "#bubble sort\n",
    "def bubble_sort(a):\n",
    "    l = len(a)\n",
    "    for passes in range(l-1,0,-1):\n",
    "        for i in range(passes):\n",
    "            if a[i] > a[i+1]:\n",
    "                temp = a[i]\n",
    "                a[i] = a[i+1]\n",
    "                a[i+1] = temp"
   ]
  },
  {
   "cell_type": "code",
   "execution_count": 40,
   "id": "d35c4b13-b894-4f71-8551-6d43350821e6",
   "metadata": {},
   "outputs": [
    {
     "name": "stdout",
     "output_type": "stream",
     "text": [
      "[1, 2, 2, 5, 6, 7, 9]\n"
     ]
    }
   ],
   "source": [
    "a=[7,2,5,2,6,9,1]\n",
    "bubblesort = bubble_sort(a)\n",
    "print(a)"
   ]
  },
  {
   "cell_type": "code",
   "execution_count": 46,
   "id": "23ca477b-ef7e-41e0-ae58-c1a01dc10ea4",
   "metadata": {},
   "outputs": [],
   "source": [
    "def count_sort(a):\n",
    "    n = len(a)\n",
    "    maxsize = max(a)\n",
    "    carray = [0] * (maxsize + 1)\n",
    "    for i in range(n):\n",
    "        carray[a[i]] = carray[a[i]] + 1\n",
    "    i = 0 \n",
    "    j = 0\n",
    "    while i < maxsize+1:\n",
    "        if carray[i] > 0:\n",
    "            a[j] = i\n",
    "            j = j +1\n",
    "            carray[i] = carray[i] -1\n",
    "        else:\n",
    "            i = i +1"
   ]
  },
  {
   "cell_type": "code",
   "execution_count": 48,
   "id": "cdb5f4b3-e668-45de-afd3-bd364a08d96b",
   "metadata": {},
   "outputs": [
    {
     "name": "stdout",
     "output_type": "stream",
     "text": [
      "[1, 2, 2, 5, 6, 7, 9]\n"
     ]
    }
   ],
   "source": [
    "a=[7,2,5,2,6,9,1]\n",
    "countsort = count_sort(a)\n",
    "print(a)"
   ]
  },
  {
   "cell_type": "code",
   "execution_count": 67,
   "id": "29f9e89c-8ddd-4485-a2ee-d45c4d05729d",
   "metadata": {},
   "outputs": [],
   "source": [
    "def radix_sort(a):\n",
    "    n = len(a)\n",
    "    maxelement = max(a)\n",
    "    digits = len(str(maxelement))\n",
    "    l = []\n",
    "    bins = [l] * 10\n",
    "    for i in range(digits):\n",
    "        for j in range(n):\n",
    "            e = int((a[j]/pow(10,i)) %10)\n",
    "            if len(bins[e]) > 0:\n",
    "                bins[e].append(a[j])\n",
    "            else:\n",
    "                bins[e] = [a[j]]\n",
    "        k = 0\n",
    "        for x in range(10):\n",
    "            if len(bins[x]) > 0:\n",
    "                for y in range(len(bins[x])):\n",
    "                    a[k] = bins[x].pop(0)\n",
    "                    k = k + 1\n",
    "    "
   ]
  },
  {
   "cell_type": "code",
   "execution_count": 70,
   "id": "85466651-e735-478f-8054-ba6094beaf77",
   "metadata": {},
   "outputs": [
    {
     "name": "stdout",
     "output_type": "stream",
     "text": [
      "[1, 2, 2, 5, 6, 7, 9]\n"
     ]
    }
   ],
   "source": [
    "a=[7,2,5,2,6,9,1]\n",
    "radixsort = radix_sort(a)\n",
    "print(a)"
   ]
  },
  {
   "cell_type": "code",
   "execution_count": 73,
   "id": "5e5e22a6-7555-4930-9c6a-b677fb91433c",
   "metadata": {},
   "outputs": [
    {
     "name": "stdout",
     "output_type": "stream",
     "text": [
      "[1, 2, 2, 5, 6, 7, 9]\n"
     ]
    }
   ],
   "source": [
    "#Python own implementation\n",
    "a=[7,2,5,2,6,9,1]\n",
    "a.sort()\n",
    "print(a)"
   ]
  },
  {
   "cell_type": "code",
   "execution_count": 74,
   "id": "9cf7cc09-0606-460e-91b5-4919ebd0da4f",
   "metadata": {},
   "outputs": [
    {
     "name": "stdout",
     "output_type": "stream",
     "text": [
      "[1, 2, 2, 5, 6, 7, 9]\n"
     ]
    }
   ],
   "source": [
    "#Python own implementation\n",
    "b=[7,2,5,2,6,9,1]\n",
    "b = sorted(a)\n",
    "print(b)"
   ]
  }
 ],
 "metadata": {
  "kernelspec": {
   "display_name": "Python 3 (ipykernel)",
   "language": "python",
   "name": "python3"
  },
  "language_info": {
   "codemirror_mode": {
    "name": "ipython",
    "version": 3
   },
   "file_extension": ".py",
   "mimetype": "text/x-python",
   "name": "python",
   "nbconvert_exporter": "python",
   "pygments_lexer": "ipython3",
   "version": "3.11.9"
  }
 },
 "nbformat": 4,
 "nbformat_minor": 5
}
