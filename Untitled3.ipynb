{
 "cells": [
  {
   "cell_type": "code",
   "execution_count": 41,
   "id": "1eeea2eb-16e6-4166-88f7-4f06e50d282d",
   "metadata": {},
   "outputs": [
    {
     "name": "stdout",
     "output_type": "stream",
     "text": [
      "Connection failed: DPY-3001: bequeath is only supported in python-oracledb thick mode\n"
     ]
    }
   ],
   "source": [
    "import pandas as pd\n",
    "import oracledb\n",
    "import os\n",
    "\n",
    "os.environ['TNS_ADMIN'] = r'C:\\Program Files\\sqldeveloper\\Wallet_PLSQL-PRACTICE'\n",
    "\n",
    "try:\n",
    "    conn = oracledb.connect(\n",
    "    user=\"admin\",\n",
    "    password=\"Gcpconsole@2306\",\n",
    "    config_dir=r\"C:\\Program Files\\sqldeveloper\\Wallet_PLSQL-PRACTICE\"\n",
    ")\n",
    "\n",
    "    print(\"Connection successful!\")\n",
    "    conn.close()\n",
    "except Exception as e:\n",
    "    print(f\"Connection failed: {e}\")\n"
   ]
  },
  {
   "cell_type": "code",
   "execution_count": 2,
   "id": "10e89126-06a3-4fea-9f60-5d813fe0d109",
   "metadata": {},
   "outputs": [
    {
     "name": "stdout",
     "output_type": "stream",
     "text": [
      "Collecting faker\n",
      "  Downloading faker-37.5.3-py3-none-any.whl.metadata (15 kB)\n",
      "Requirement already satisfied: tzdata in c:\\users\\gokul\\appdata\\local\\programs\\python\\python311\\lib\\site-packages (from faker) (2024.1)\n",
      "Downloading faker-37.5.3-py3-none-any.whl (1.9 MB)\n",
      "   ---------------------------------------- 0.0/1.9 MB ? eta -:--:--\n",
      "   ---------------------------------------- 1.9/1.9 MB 12.1 MB/s eta 0:00:00\n",
      "Installing collected packages: faker\n",
      "Successfully installed faker-37.5.3\n",
      "Note: you may need to restart the kernel to use updated packages.\n"
     ]
    },
    {
     "name": "stderr",
     "output_type": "stream",
     "text": [
      "\n",
      "[notice] A new release of pip is available: 25.0.1 -> 25.2\n",
      "[notice] To update, run: C:\\Users\\gokul\\AppData\\Local\\Programs\\Python\\Python311\\python.exe -m pip install --upgrade pip\n"
     ]
    }
   ],
   "source": [
    "pip install faker"
   ]
  },
  {
   "cell_type": "code",
   "execution_count": 10,
   "id": "a8549c84-affd-43b0-952a-5b3cfd18f2d9",
   "metadata": {},
   "outputs": [
    {
     "name": "stdout",
     "output_type": "stream",
     "text": [
      "✅ Port 1522 is open!\n"
     ]
    }
   ],
   "source": [
    "import socket\n",
    "\n",
    "host = \"gcp-europe-west2.adb.uk-london-1.oraclecloud.com\"\n",
    "port = 1522\n",
    "\n",
    "sock = socket.socket(socket.AF_INET, socket.SOCK_STREAM)\n",
    "sock.settimeout(5)\n",
    "result = sock.connect_ex((host, port))\n",
    "\n",
    "if result == 0:\n",
    "    print(\"✅ Port 1522 is open!\")\n",
    "else:\n",
    "    print(\"❌ Port 1522 is blocked or unreachable.\")\n",
    "\n",
    "sock.close()\n"
   ]
  },
  {
   "cell_type": "code",
   "execution_count": 4,
   "id": "f056efc3-a959-43a8-92c5-08f1892cd336",
   "metadata": {},
   "outputs": [
    {
     "name": "stdout",
     "output_type": "stream",
     "text": [
      "Generated 100 fake records in 'fakefriends.csv'\n"
     ]
    }
   ],
   "source": [
    "from faker import Faker\n",
    "import random\n",
    "import csv\n",
    "\n",
    "fake = Faker()\n",
    "\n",
    "# Number of records you want to generate\n",
    "num_records = 100\n",
    "\n",
    "# Open a file to write the fake data (optional)\n",
    "with open('temperature.csv', mode='w', newline='') as csvfile:\n",
    "    writer = csv.writer(csvfile)\n",
    "    # Write header\n",
    "    writer.writerow(['id', 'name', 'age', 'friends'])\n",
    "    \n",
    "    for i in range(num_records):\n",
    "        # Generate fake name\n",
    "        name = fake.first_name()\n",
    "        # Generate age between 10 and 80\n",
    "        age = random.randint(10, 80)\n",
    "        # Generate number of friends between 0 and 500\n",
    "        friends = random.randint(0, 500)\n",
    "        # Write the row as: id, name, age, friends\n",
    "        writer.writerow([i, name, age, friends])\n",
    "\n",
    "print(f\"Generated {num_records} fake records in 'fakefriends.csv'\")\n"
   ]
  },
  {
   "cell_type": "code",
   "execution_count": 6,
   "id": "4ed182b6-b374-4241-b80d-54693fa7bb4e",
   "metadata": {},
   "outputs": [],
   "source": [
    "def longest_unique_substring(s):\n",
    "    start = 0\n",
    "    max_len = 0\n",
    "    max_substring = \"\"\n",
    "    char_index_map = {}\n",
    "\n",
    "    for end in range(len(s)):\n",
    "        if s[end] in char_index_map and char_index_map[s[end]] >= start:\n",
    "            start = char_index_map[s[end]] + 1\n",
    "\n",
    "        char_index_map[s[end]] = end\n",
    "\n",
    "        if end - start + 1 > max_len:\n",
    "            max_len = end - start + 1\n",
    "            max_substring = s[start:end + 1]\n",
    "\n",
    "    return max_len, max_substring"
   ]
  },
  {
   "cell_type": "code",
   "execution_count": 8,
   "id": "daa6baf2-28df-4187-8ec5-5f838b76177d",
   "metadata": {},
   "outputs": [
    {
     "name": "stdout",
     "output_type": "stream",
     "text": [
      "(3, 'wke')\n"
     ]
    }
   ],
   "source": [
    "s = \"pwwkew\"\n",
    "print(longest_unique_substring(s))"
   ]
  }
 ],
 "metadata": {
  "kernelspec": {
   "display_name": "Python 3 (ipykernel)",
   "language": "python",
   "name": "python3"
  },
  "language_info": {
   "codemirror_mode": {
    "name": "ipython",
    "version": 3
   },
   "file_extension": ".py",
   "mimetype": "text/x-python",
   "name": "python",
   "nbconvert_exporter": "python",
   "pygments_lexer": "ipython3",
   "version": "3.11.9"
  }
 },
 "nbformat": 4,
 "nbformat_minor": 5
}
