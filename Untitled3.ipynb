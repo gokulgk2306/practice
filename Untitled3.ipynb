{
 "cells": [
  {
   "cell_type": "code",
   "execution_count": 41,
   "id": "1eeea2eb-16e6-4166-88f7-4f06e50d282d",
   "metadata": {},
   "outputs": [
    {
     "name": "stdout",
     "output_type": "stream",
     "text": [
      "Connection failed: DPY-3001: bequeath is only supported in python-oracledb thick mode\n"
     ]
    }
   ],
   "source": [
    "import pandas as pd\n",
    "import oracledb\n",
    "import os\n",
    "\n",
    "os.environ['TNS_ADMIN'] = r'C:\\Program Files\\sqldeveloper\\Wallet_PLSQL-PRACTICE'\n",
    "\n",
    "try:\n",
    "    conn = oracledb.connect(\n",
    "    user=\"admin\",\n",
    "    password=\"Gcpconsole@2306\",\n",
    "    config_dir=r\"C:\\Program Files\\sqldeveloper\\Wallet_PLSQL-PRACTICE\"\n",
    ")\n",
    "\n",
    "    print(\"Connection successful!\")\n",
    "    conn.close()\n",
    "except Exception as e:\n",
    "    print(f\"Connection failed: {e}\")\n"
   ]
  },
  {
   "cell_type": "code",
   "execution_count": null,
   "id": "10e89126-06a3-4fea-9f60-5d813fe0d109",
   "metadata": {},
   "outputs": [],
   "source": [
    "pip install oracledb"
   ]
  },
  {
   "cell_type": "code",
   "execution_count": 10,
   "id": "a8549c84-affd-43b0-952a-5b3cfd18f2d9",
   "metadata": {},
   "outputs": [
    {
     "name": "stdout",
     "output_type": "stream",
     "text": [
      "✅ Port 1522 is open!\n"
     ]
    }
   ],
   "source": [
    "import socket\n",
    "\n",
    "host = \"gcp-europe-west2.adb.uk-london-1.oraclecloud.com\"\n",
    "port = 1522\n",
    "\n",
    "sock = socket.socket(socket.AF_INET, socket.SOCK_STREAM)\n",
    "sock.settimeout(5)\n",
    "result = sock.connect_ex((host, port))\n",
    "\n",
    "if result == 0:\n",
    "    print(\"✅ Port 1522 is open!\")\n",
    "else:\n",
    "    print(\"❌ Port 1522 is blocked or unreachable.\")\n",
    "\n",
    "sock.close()\n"
   ]
  },
  {
   "cell_type": "code",
   "execution_count": null,
   "id": "f056efc3-a959-43a8-92c5-08f1892cd336",
   "metadata": {},
   "outputs": [],
   "source": []
  }
 ],
 "metadata": {
  "kernelspec": {
   "display_name": "Python 3 (ipykernel)",
   "language": "python",
   "name": "python3"
  },
  "language_info": {
   "codemirror_mode": {
    "name": "ipython",
    "version": 3
   },
   "file_extension": ".py",
   "mimetype": "text/x-python",
   "name": "python",
   "nbconvert_exporter": "python",
   "pygments_lexer": "ipython3",
   "version": "3.11.9"
  }
 },
 "nbformat": 4,
 "nbformat_minor": 5
}
